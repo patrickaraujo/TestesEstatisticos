{
 "cells": [
  {
   "cell_type": "markdown",
   "id": "59b58cf7",
   "metadata": {},
   "source": [
    "Autor: <b>Patrick Anderson Matias de Araújo</b><br>R.A.: <b>217144</b>"
   ]
  },
  {
   "cell_type": "code",
   "execution_count": 135,
   "id": "81f882b0",
   "metadata": {},
   "outputs": [],
   "source": [
    "import numpy as np\n",
    "import pandas as pd\n",
    "import scipy.stats as stats\n",
    "import matplotlib.pyplot as plt\n",
    "from math import sqrt"
   ]
  },
  {
   "cell_type": "markdown",
   "id": "2a474f2b",
   "metadata": {},
   "source": [
    "<h2><i>bp.csv</i></h2>"
   ]
  },
  {
   "cell_type": "code",
   "execution_count": 136,
   "id": "9ab360d4",
   "metadata": {},
   "outputs": [
    {
     "name": "stdout",
     "output_type": "stream",
     "text": [
      "(Sim)\tMédia:\t 74.58823529411765\n",
      "(Sim)\tMediana:\t 76.0\n",
      "(Sim)\tQuantidade:\t 68\n",
      "(Não)\tMédia:\t 69.54545454545455\n",
      "(Não)\tMediana:\t 70.0\n",
      "(Não)\tQuantidade:\t 132\n"
     ]
    }
   ],
   "source": [
    "base1 = pd.read_csv(\"bp.csv\", low_memory=False)\n",
    "p1_temp = base1.to_numpy()\n",
    "p1_Y = p1_temp[p1_temp[:, 1] == \"Yes\"]\n",
    "p1_Y = p1_Y[:, 0].astype(np.float64)\n",
    "print(\"(Sim)\\tMédia:\\t\", np.mean(p1_Y))\n",
    "print(\"(Sim)\\tMediana:\\t\", np.median(p1_Y))\n",
    "print(\"(Sim)\\tQuantidade:\\t\", len(p1_Y))\n",
    "p1_N = p1_temp[p1_temp[:, 1] == \"No\"]\n",
    "p1_N = p1_N[:, 0].astype(np.float64)\n",
    "print(\"(Não)\\tMédia:\\t\", np.mean(p1_N))\n",
    "print(\"(Não)\\tMediana:\\t\", np.median(p1_N))\n",
    "print(\"(Não)\\tQuantidade:\\t\", len(p1_N))"
   ]
  },
  {
   "cell_type": "markdown",
   "id": "85ed15dc",
   "metadata": {},
   "source": [
    "<h3>T-Test</h3>"
   ]
  },
  {
   "cell_type": "code",
   "execution_count": 137,
   "id": "7d8a99f3",
   "metadata": {},
   "outputs": [
    {
     "data": {
      "text/plain": [
       "Ttest_indResult(statistic=3.001495202122035, pvalue=0.0030323591864622732)"
      ]
     },
     "execution_count": 137,
     "metadata": {},
     "output_type": "execute_result"
    }
   ],
   "source": [
    "stats.ttest_ind(p1_Y, p1_N)"
   ]
  },
  {
   "cell_type": "markdown",
   "id": "05ded68a",
   "metadata": {},
   "source": [
    "<h3><a href=\"https://stats.stackexchange.com/questions/91034/what-is-the-difference-between-the-wilcoxon-rank-sum-test-and-the-wilcoxon-signe\" target=\"_blank\">Wilcoxon Rank Sum</a></h3>"
   ]
  },
  {
   "cell_type": "code",
   "execution_count": 138,
   "id": "904c62ee",
   "metadata": {},
   "outputs": [
    {
     "name": "stdout",
     "output_type": "stream",
     "text": [
      "stat=3.046, p=0.002\n",
      "Probably different distributions\n"
     ]
    }
   ],
   "source": [
    "stat, p = stats.ranksums(p1_Y,p1_N)\n",
    "print('stat=%.3f, p=%.3f' % (stat, p))\n",
    "if p > 0.05:\n",
    "\tprint('Probably the same distribution')\n",
    "else:\n",
    "\tprint('Probably different distributions')"
   ]
  },
  {
   "cell_type": "markdown",
   "id": "f53ba5f9",
   "metadata": {},
   "source": [
    "<h3>Intervalo de Confiança (IC)</h3>\n",
    "<h4>Bootstrap</h4>"
   ]
  },
  {
   "cell_type": "code",
   "execution_count": 139,
   "id": "c992119e",
   "metadata": {},
   "outputs": [
    {
     "name": "stdout",
     "output_type": "stream",
     "text": [
      "ConfidenceInterval(low=71.77941176470588, high=77.29411764705883)\n"
     ]
    }
   ],
   "source": [
    "bootstrap_ci = stats.bootstrap((p1_Y,), np.mean, confidence_level=0.95, random_state=1, method='BCa')\n",
    "\n",
    "print(bootstrap_ci.confidence_interval)"
   ]
  },
  {
   "cell_type": "code",
   "execution_count": 140,
   "id": "b37aa8b2",
   "metadata": {},
   "outputs": [
    {
     "name": "stdout",
     "output_type": "stream",
     "text": [
      "ConfidenceInterval(low=67.6590909090909, high=71.47727272727273)\n"
     ]
    }
   ],
   "source": [
    "bootstrap_ci = stats.bootstrap((p1_N,), np.mean, confidence_level=0.95, random_state=1, method='BCa')\n",
    "\n",
    "#IC 95% \n",
    "print(bootstrap_ci.confidence_interval)"
   ]
  },
  {
   "cell_type": "code",
   "execution_count": 141,
   "id": "b9554446",
   "metadata": {},
   "outputs": [
    {
     "name": "stdout",
     "output_type": "stream",
     "text": [
      "Cohens d: 0.448\n"
     ]
    }
   ],
   "source": [
    "# function to calculate Cohen's d for independent samples\n",
    "def cohend(d1, d2):\n",
    "\t# calculate the size of samples\n",
    "\tn1, n2 = len(d1), len(d2)\n",
    "\t# calculate the variance of the samples\n",
    "\ts1, s2 = np.var(d1, ddof=1), np.var(d2, ddof=1)\n",
    "\t# calculate the pooled standard deviation\n",
    "\ts = sqrt(((n1 - 1) * s1 + (n2 - 1) * s2) / (n1 + n2 - 2))\n",
    "\t# calculate the means of the samples\n",
    "\tu1, u2 = np.mean(d1), np.mean(d2)\n",
    "\t# calculate the effect size\n",
    "\treturn (u1 - u2) / s\n",
    " \n",
    "# seed random number generator\n",
    "np.random.seed(1)\n",
    "\n",
    "# prepare data\n",
    "data1 = np.random.normal(150,30,size=4)\n",
    "data2 = np.random.normal(140,30,size=4)\n",
    "\n",
    "# calculate cohen's d\n",
    "d = cohend(p1_Y, p1_N)\n",
    "print('Cohens d: %.3f' % d)"
   ]
  },
  {
   "cell_type": "markdown",
   "id": "b0f75318",
   "metadata": {},
   "source": [
    "<h2><i>paired.csv</i></h2>"
   ]
  },
  {
   "cell_type": "code",
   "execution_count": 142,
   "id": "14129f9e",
   "metadata": {
    "scrolled": true
   },
   "outputs": [
    {
     "name": "stdout",
     "output_type": "stream",
     "text": [
      "[ 8.1 10.  16.5 13.6  9.5  8.3 18.3 13.3  7.9  8.1  8.9 12.6 13.4]\n",
      "(Ago)\tMédia:\t 11.423076923076925\n",
      "(Ago)\tMediana:\t 10.0\n",
      "(Ago)\tQuantidade:\t 13\n",
      "[11.2 16.3 15.3 15.6 10.5 15.5 12.7 11.1 19.9 20.4 14.2 12.7 36.8]\n",
      "(Nov)\tMédia:\t 16.323076923076922\n",
      "(Nov)\tMediana:\t 15.3\n",
      "(Nov)\tQuantidade:\t 13\n"
     ]
    }
   ],
   "source": [
    "base2 = pd.read_csv(\"paired.csv\", low_memory=False)\n",
    "p2_temp = base2.to_numpy()\n",
    "p2_Ago = p2_temp[:, 1].astype(np.float64)\n",
    "p2_Nov = p2_temp[:, 2].astype(np.float64)\n",
    "\n",
    "print(p2_Ago)\n",
    "print(\"(Ago)\\tMédia:\\t\", np.mean(p2_Ago))\n",
    "print(\"(Ago)\\tMediana:\\t\", np.median(p2_Ago))\n",
    "print(\"(Ago)\\tQuantidade:\\t\", len(p2_Ago))\n",
    "\n",
    "print(p2_Nov)\n",
    "print(\"(Nov)\\tMédia:\\t\", np.mean(p2_Nov))\n",
    "print(\"(Nov)\\tMediana:\\t\", np.median(p2_Nov))\n",
    "print(\"(Nov)\\tQuantidade:\\t\", len(p2_Nov))"
   ]
  },
  {
   "cell_type": "markdown",
   "id": "cbd1d3b1",
   "metadata": {},
   "source": [
    "<h3>T-Test</h3>"
   ]
  },
  {
   "cell_type": "code",
   "execution_count": 143,
   "id": "d895ac5c",
   "metadata": {},
   "outputs": [
    {
     "data": {
      "text/plain": [
       "Ttest_indResult(statistic=-2.293400543711695, pvalue=0.03088448455801124)"
      ]
     },
     "execution_count": 143,
     "metadata": {},
     "output_type": "execute_result"
    }
   ],
   "source": [
    "stats.ttest_ind(p2_Ago, p2_Nov)"
   ]
  },
  {
   "cell_type": "markdown",
   "id": "4bb1d017",
   "metadata": {},
   "source": [
    "<h3><a href=\"https://stats.stackexchange.com/questions/91034/what-is-the-difference-between-the-wilcoxon-rank-sum-test-and-the-wilcoxon-signe\" target=\"_blank\">Wilcoxon Rank Sum</a></h3>"
   ]
  },
  {
   "cell_type": "code",
   "execution_count": 144,
   "id": "b40a2357",
   "metadata": {},
   "outputs": [
    {
     "name": "stdout",
     "output_type": "stream",
     "text": [
      "stat=-2.385, p=0.017\n",
      "Probably different distributions\n"
     ]
    }
   ],
   "source": [
    "stat, p = stats.ranksums(p2_Ago, p2_Nov)\n",
    "print('stat=%.3f, p=%.3f' % (stat, p))\n",
    "if p > 0.05:\n",
    "\tprint('Probably the same distribution')\n",
    "else:\n",
    "\tprint('Probably different distributions')"
   ]
  }
 ],
 "metadata": {
  "kernelspec": {
   "display_name": "Python 3 (ipykernel)",
   "language": "python",
   "name": "python3"
  },
  "language_info": {
   "codemirror_mode": {
    "name": "ipython",
    "version": 3
   },
   "file_extension": ".py",
   "mimetype": "text/x-python",
   "name": "python",
   "nbconvert_exporter": "python",
   "pygments_lexer": "ipython3",
   "version": "3.10.6"
  }
 },
 "nbformat": 4,
 "nbformat_minor": 5
}
